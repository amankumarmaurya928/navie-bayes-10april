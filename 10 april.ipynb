{
 "cells": [
  {
   "cell_type": "code",
   "execution_count": 1,
   "id": "a42eea7c-b172-4b25-813f-59fdaf7cac54",
   "metadata": {},
   "outputs": [
    {
     "data": {
      "text/plain": [
       "\"Given: 70% are using health plan\\n        40% smoker are using health plan\\n        P(H)=0.7 [probability of user of health plan]\\n        P(H/S)=0.4\\n        P(S/H)=0.6\\n    by Bayes' Theorem:    \\n       P(S) = [P(H/S)*P(H)]/P(S/H)\\n            = 0.7*0.4/0.6\\n        P(S) = 0.4689 %\\n  P(s) is the probability that an employee is a smoker given that he/she uses the health insurance plan.\""
      ]
     },
     "execution_count": 1,
     "metadata": {},
     "output_type": "execute_result"
    }
   ],
   "source": [
    "# Q1\n",
    "'''Given: 70% are using health plan\n",
    "        40% smoker are using health plan\n",
    "        P(H)=0.7 [probability of user of health plan]\n",
    "        P(H/S)=0.4\n",
    "        P(S/H)=0.6\n",
    "    by Bayes' Theorem:    \n",
    "       P(S) = [P(H/S)*P(H)]/P(S/H)\n",
    "            = 0.7*0.4/0.6\n",
    "        P(S) = 0.4689 %\n",
    "  P(s) is the probability that an employee is a smoker given that he/she uses the health insurance plan.'''\n"
   ]
  },
  {
   "cell_type": "code",
   "execution_count": 2,
   "id": "97e99933-ab1f-4b2d-86a2-72d052af6000",
   "metadata": {},
   "outputs": [
    {
     "data": {
      "text/plain": [
       "'Multinomial Naïve Bayes consider a feature vector where a given term represents the number of times it appears or very \\n   often i.e. frequency. On the other hand, Bernoulli is a binary algorithm used when the feature is present or not.\\n   Naive Bayes classifier for multivariate Bernoulli models. Like MultinomialNB, this classifier is suitable for discrete data.\\n  The difference is that while MultinomialNB works with occurrence counts, BernoulliNB is designed for binary/boolean features.\\n  '"
      ]
     },
     "execution_count": 2,
     "metadata": {},
     "output_type": "execute_result"
    }
   ],
   "source": [
    "# Q2\n",
    "'''Multinomial Naïve Bayes consider a feature vector where a given term represents the number of times it appears or very \n",
    "   often i.e. frequency. On the other hand, Bernoulli is a binary algorithm used when the feature is present or not.\n",
    "   Naive Bayes classifier for multivariate Bernoulli models. Like MultinomialNB, this classifier is suitable for discrete data.\n",
    "  The difference is that while MultinomialNB works with occurrence counts, BernoulliNB is designed for binary/boolean features.\n",
    "  '''"
   ]
  },
  {
   "cell_type": "code",
   "execution_count": 3,
   "id": "259e42d4-8a99-487c-912c-23157046e7d2",
   "metadata": {},
   "outputs": [
    {
     "data": {
      "text/plain": [
       "'Naive Bayes can handle missing data. Attributes are handled separately by the algorithm, at both model construction time \\n   and prediction time. As such, if a data instance has a missing value for an attribute, it can be ignored while preparing \\n   the model, and ignored when a probability is calculated for a class value.\\n   \\n   Naïve Bayes Imputation (NBI) is used to fill in missing values by replacing the attribute information according to the \\n   probability estimate. The NBI process divides the whole data into two sub-sets is the complete data and data containing \\n   missing data. Complete data is used for the imputation process at the lost value.\\n   '"
      ]
     },
     "execution_count": 3,
     "metadata": {},
     "output_type": "execute_result"
    }
   ],
   "source": [
    "# Q3 \n",
    "'''Naive Bayes can handle missing data. Attributes are handled separately by the algorithm, at both model construction time \n",
    "   and prediction time. As such, if a data instance has a missing value for an attribute, it can be ignored while preparing \n",
    "   the model, and ignored when a probability is calculated for a class value.\n",
    "   \n",
    "   Naïve Bayes Imputation (NBI) is used to fill in missing values by replacing the attribute information according to the \n",
    "   probability estimate. The NBI process divides the whole data into two sub-sets is the complete data and data containing \n",
    "   missing data. Complete data is used for the imputation process at the lost value.\n",
    "   '''"
   ]
  },
  {
   "cell_type": "code",
   "execution_count": 1,
   "id": "21ee2f6c-7988-440c-b961-6d3aab585bfa",
   "metadata": {},
   "outputs": [
    {
     "data": {
      "text/plain": [
       "'Naive bayes is a simple but efficient algorithm for predictive modeling. It is a classification algorithm for binary\\n   (two-class) as well as multiclass classification problems Also, a high degree of accuracy can be achieved using Naïve\\n   Bayes for text classification.\\n   Naive Bayes is a classification algorithm that is suitable for binary and multiclass classification.\\n   Unlike some classifiers, multi-class labeling is trivial with Naive Bayes. In other words, you compute the probability\\n   of each class label in the usual way, then pick the class with the largest probability.\\n   '"
      ]
     },
     "execution_count": 1,
     "metadata": {},
     "output_type": "execute_result"
    }
   ],
   "source": [
    "# Q4\n",
    "'''Naive bayes is a simple but efficient algorithm for predictive modeling. It is a classification algorithm for binary\n",
    "   (two-class) as well as multiclass classification problems Also, a high degree of accuracy can be achieved using Naïve\n",
    "   Bayes for text classification.\n",
    "   Naive Bayes is a classification algorithm that is suitable for binary and multiclass classification.\n",
    "   Unlike some classifiers, multi-class labeling is trivial with Naive Bayes. In other words, you compute the probability\n",
    "   of each class label in the usual way, then pick the class with the largest probability.\n",
    "   '''"
   ]
  },
  {
   "cell_type": "code",
   "execution_count": null,
   "id": "1987245f-1aff-45a5-bf0d-7a1f3ad14950",
   "metadata": {},
   "outputs": [],
   "source": []
  }
 ],
 "metadata": {
  "kernelspec": {
   "display_name": "Python 3 (ipykernel)",
   "language": "python",
   "name": "python3"
  },
  "language_info": {
   "codemirror_mode": {
    "name": "ipython",
    "version": 3
   },
   "file_extension": ".py",
   "mimetype": "text/x-python",
   "name": "python",
   "nbconvert_exporter": "python",
   "pygments_lexer": "ipython3",
   "version": "3.10.8"
  }
 },
 "nbformat": 4,
 "nbformat_minor": 5
}
